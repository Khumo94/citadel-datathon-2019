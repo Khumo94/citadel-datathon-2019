{
 "nbformat": 4,
 "nbformat_minor": 2,
 "metadata": {
  "language_info": {
   "name": "python",
   "codemirror_mode": {
    "name": "ipython",
    "version": 3
   }
  },
  "orig_nbformat": 2,
  "file_extension": ".py",
  "mimetype": "text/x-python",
  "name": "python",
  "npconvert_exporter": "python",
  "pygments_lexer": "ipython3",
  "version": 3
 },
 "cells": [
  {
   "cell_type": "code",
   "execution_count": 1,
   "metadata": {},
   "outputs": [],
   "source": [
    "import numpy as np\n",
    "import pandas as pd"
   ]
  },
  {
   "cell_type": "code",
   "execution_count": 5,
   "metadata": {},
   "outputs": [],
   "source": [
    "labor_market_statistics = pd.read_csv('Datasets/labor_market_statistics.csv')\n",
    "labor_market_statistics_legend = pd.read_csv('Datasets/Code Legends/labor_market_stats_legend.csv')"
   ]
  },
  {
   "cell_type": "code",
   "execution_count": 3,
   "metadata": {},
   "outputs": [
    {
     "data": {
      "text/html": "<div>\n<style scoped>\n    .dataframe tbody tr th:only-of-type {\n        vertical-align: middle;\n    }\n\n    .dataframe tbody tr th {\n        vertical-align: top;\n    }\n\n    .dataframe thead th {\n        text-align: right;\n    }\n</style>\n<table border=\"1\" class=\"dataframe\">\n  <thead>\n    <tr style=\"text-align: right;\">\n      <th></th>\n      <th>Year</th>\n      <th>Month</th>\n      <th>YBZY</th>\n      <th>YBZR</th>\n      <th>YBZQ</th>\n      <th>YBZT</th>\n      <th>YBZS</th>\n      <th>YBZV</th>\n      <th>YBZU</th>\n      <th>YBZW</th>\n      <th>...</th>\n      <th>LF3M</th>\n      <th>AIYW</th>\n      <th>LF3T</th>\n      <th>LF45</th>\n      <th>YCGN</th>\n      <th>AIYX</th>\n      <th>DZ36</th>\n      <th>LF3S</th>\n      <th>LF44</th>\n      <th>YCGM</th>\n    </tr>\n  </thead>\n  <tbody>\n    <tr>\n      <td>0</td>\n      <td>1992</td>\n      <td>YEAR</td>\n      <td>38376.0</td>\n      <td>88044.0</td>\n      <td>24636.0</td>\n      <td>37656.0</td>\n      <td>50388.0</td>\n      <td>64752.0</td>\n      <td>118176.0</td>\n      <td>53424.0</td>\n      <td>...</td>\n      <td>71.5</td>\n      <td>6.0</td>\n      <td>67.7</td>\n      <td>60.8</td>\n      <td>6072.0</td>\n      <td>6.6</td>\n      <td>NaN</td>\n      <td>71.3</td>\n      <td>57.9</td>\n      <td>9264.0</td>\n    </tr>\n    <tr>\n      <td>1</td>\n      <td>1993</td>\n      <td>YEAR</td>\n      <td>38184.0</td>\n      <td>89076.0</td>\n      <td>23628.0</td>\n      <td>38556.0</td>\n      <td>50520.0</td>\n      <td>64968.0</td>\n      <td>119064.0</td>\n      <td>54096.0</td>\n      <td>...</td>\n      <td>70.8</td>\n      <td>5.2</td>\n      <td>67.5</td>\n      <td>60.8</td>\n      <td>6132.0</td>\n      <td>6.2</td>\n      <td>NaN</td>\n      <td>71.3</td>\n      <td>58.4</td>\n      <td>9360.0</td>\n    </tr>\n    <tr>\n      <td>2</td>\n      <td>1994</td>\n      <td>YEAR</td>\n      <td>38400.0</td>\n      <td>89784.0</td>\n      <td>22248.0</td>\n      <td>39024.0</td>\n      <td>50772.0</td>\n      <td>65016.0</td>\n      <td>119376.0</td>\n      <td>54360.0</td>\n      <td>...</td>\n      <td>71.5</td>\n      <td>5.2</td>\n      <td>69.3</td>\n      <td>61.2</td>\n      <td>5568.0</td>\n      <td>6.1</td>\n      <td>NaN</td>\n      <td>70.5</td>\n      <td>57.0</td>\n      <td>8592.0</td>\n    </tr>\n    <tr>\n      <td>3</td>\n      <td>1995</td>\n      <td>YEAR</td>\n      <td>38436.0</td>\n      <td>90072.0</td>\n      <td>21516.0</td>\n      <td>39492.0</td>\n      <td>50568.0</td>\n      <td>65604.0</td>\n      <td>120468.0</td>\n      <td>54864.0</td>\n      <td>...</td>\n      <td>71.4</td>\n      <td>5.2</td>\n      <td>69.8</td>\n      <td>60.3</td>\n      <td>5016.0</td>\n      <td>6.1</td>\n      <td>NaN</td>\n      <td>72.2</td>\n      <td>58.4</td>\n      <td>7908.0</td>\n    </tr>\n    <tr>\n      <td>4</td>\n      <td>1996</td>\n      <td>YEAR</td>\n      <td>39192.0</td>\n      <td>89976.0</td>\n      <td>20952.0</td>\n      <td>39780.0</td>\n      <td>50184.0</td>\n      <td>65772.0</td>\n      <td>121524.0</td>\n      <td>55752.0</td>\n      <td>...</td>\n      <td>72.1</td>\n      <td>5.7</td>\n      <td>70.0</td>\n      <td>61.6</td>\n      <td>4656.0</td>\n      <td>6.8</td>\n      <td>NaN</td>\n      <td>72.9</td>\n      <td>58.5</td>\n      <td>7392.0</td>\n    </tr>\n  </tbody>\n</table>\n<p>5 rows × 255 columns</p>\n</div>",
      "text/plain": "   Year Month     YBZY     YBZR     YBZQ     YBZT     YBZS     YBZV      YBZU  \\\n0  1992  YEAR  38376.0  88044.0  24636.0  37656.0  50388.0  64752.0  118176.0   \n1  1993  YEAR  38184.0  89076.0  23628.0  38556.0  50520.0  64968.0  119064.0   \n2  1994  YEAR  38400.0  89784.0  22248.0  39024.0  50772.0  65016.0  119376.0   \n3  1995  YEAR  38436.0  90072.0  21516.0  39492.0  50568.0  65604.0  120468.0   \n4  1996  YEAR  39192.0  89976.0  20952.0  39780.0  50184.0  65772.0  121524.0   \n\n      YBZW  ...  LF3M  AIYW  LF3T  LF45    YCGN  AIYX  DZ36  LF3S  LF44  \\\n0  53424.0  ...  71.5   6.0  67.7  60.8  6072.0   6.6   NaN  71.3  57.9   \n1  54096.0  ...  70.8   5.2  67.5  60.8  6132.0   6.2   NaN  71.3  58.4   \n2  54360.0  ...  71.5   5.2  69.3  61.2  5568.0   6.1   NaN  70.5  57.0   \n3  54864.0  ...  71.4   5.2  69.8  60.3  5016.0   6.1   NaN  72.2  58.4   \n4  55752.0  ...  72.1   5.7  70.0  61.6  4656.0   6.8   NaN  72.9  58.5   \n\n     YCGM  \n0  9264.0  \n1  9360.0  \n2  8592.0  \n3  7908.0  \n4  7392.0  \n\n[5 rows x 255 columns]"
     },
     "execution_count": 3,
     "metadata": {},
     "output_type": "execute_result"
    }
   ],
   "source": [
    "labor_market_statistics.head()"
   ]
  },
  {
   "cell_type": "code",
   "execution_count": null,
   "metadata": {},
   "outputs": [],
   "source": []
  }
 ]
}