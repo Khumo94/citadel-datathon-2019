{
 "nbformat": 4,
 "nbformat_minor": 2,
 "metadata": {
  "language_info": {
   "name": "python",
   "codemirror_mode": {
    "name": "ipython",
    "version": 3
   }
  },
  "orig_nbformat": 2,
  "file_extension": ".py",
  "mimetype": "text/x-python",
  "name": "python",
  "npconvert_exporter": "python",
  "pygments_lexer": "ipython3",
  "version": 3
 },
 "cells": [
  {
   "cell_type": "code",
   "execution_count": 1,
   "metadata": {},
   "outputs": [],
   "source": [
    "import numpy as np\n",
    "import pandas as pd"
   ]
  },
  {
   "cell_type": "code",
   "execution_count": 13,
   "metadata": {},
   "outputs": [
    {
     "name": "stderr",
     "output_type": "stream",
     "text": "/Users/kamilestankeviciute/anaconda3/envs/tensorflow/lib/python3.7/site-packages/IPython/core/interactiveshell.py:3058: DtypeWarning: Columns (1) have mixed types. Specify dtype option on import or set low_memory=False.\n  interactivity=interactivity, compiler=compiler, result=result)\n"
    }
   ],
   "source": [
    "lse_historical_data = pd.read_csv('Datasets/lse_historical_data.csv')"
   ]
  },
  {
   "cell_type": "code",
   "execution_count": 3,
   "metadata": {},
   "outputs": [
    {
     "data": {
      "text/html": "<div>\n<style scoped>\n    .dataframe tbody tr th:only-of-type {\n        vertical-align: middle;\n    }\n\n    .dataframe tbody tr th {\n        vertical-align: top;\n    }\n\n    .dataframe thead th {\n        text-align: right;\n    }\n</style>\n<table border=\"1\" class=\"dataframe\">\n  <thead>\n    <tr style=\"text-align: right;\">\n      <th></th>\n      <th>year</th>\n      <th>month</th>\n      <th>ticker</th>\n      <th>list_date</th>\n      <th>company_name</th>\n      <th>icb_industry</th>\n      <th>icb_supersector</th>\n      <th>country_of_incorporation</th>\n      <th>market_cap</th>\n      <th>eps</th>\n      <th>p/e</th>\n      <th>p/s</th>\n    </tr>\n  </thead>\n  <tbody>\n    <tr>\n      <td>0</td>\n      <td>2017</td>\n      <td>11</td>\n      <td>OPM</td>\n      <td>2006-08-02</td>\n      <td>1PM PLC</td>\n      <td>Financial Services</td>\n      <td>Financials</td>\n      <td>United Kingdom</td>\n      <td>40.036935</td>\n      <td>NaN</td>\n      <td>NaN</td>\n      <td>NaN</td>\n    </tr>\n    <tr>\n      <td>1</td>\n      <td>2017</td>\n      <td>11</td>\n      <td>SPA</td>\n      <td>2009-02-02</td>\n      <td>1SPATIAL PLC</td>\n      <td>Industrial Goods &amp; Services</td>\n      <td>Industrials</td>\n      <td>United Kingdom</td>\n      <td>29.467662</td>\n      <td>NaN</td>\n      <td>NaN</td>\n      <td>NaN</td>\n    </tr>\n    <tr>\n      <td>2</td>\n      <td>2017</td>\n      <td>11</td>\n      <td>C21</td>\n      <td>2005-04-15</td>\n      <td>21ST CENTURY TECHNOLOGY PLC</td>\n      <td>Industrial Goods &amp; Services</td>\n      <td>Industrials</td>\n      <td>United Kingdom</td>\n      <td>2.564093</td>\n      <td>NaN</td>\n      <td>NaN</td>\n      <td>NaN</td>\n    </tr>\n    <tr>\n      <td>3</td>\n      <td>2017</td>\n      <td>11</td>\n      <td>III</td>\n      <td>1994-07-18</td>\n      <td>3I GROUP PLC</td>\n      <td>Financial Services</td>\n      <td>Financials</td>\n      <td>United Kingdom</td>\n      <td>8765.510388</td>\n      <td>NaN</td>\n      <td>NaN</td>\n      <td>NaN</td>\n    </tr>\n    <tr>\n      <td>4</td>\n      <td>2017</td>\n      <td>11</td>\n      <td>3IN</td>\n      <td>2007-03-13</td>\n      <td>3I INFRASTRUCTURE PLC</td>\n      <td>Financial Services</td>\n      <td>Financials</td>\n      <td>Jersey</td>\n      <td>2025.382649</td>\n      <td>NaN</td>\n      <td>NaN</td>\n      <td>NaN</td>\n    </tr>\n    <tr>\n      <td>...</td>\n      <td>...</td>\n      <td>...</td>\n      <td>...</td>\n      <td>...</td>\n      <td>...</td>\n      <td>...</td>\n      <td>...</td>\n      <td>...</td>\n      <td>...</td>\n      <td>...</td>\n      <td>...</td>\n      <td>...</td>\n    </tr>\n    <tr>\n      <td>159395</td>\n      <td>2013</td>\n      <td>6</td>\n      <td>ZOX</td>\n      <td>2001-12-10</td>\n      <td>ZINCOX RESOURCES PLC</td>\n      <td>Mining</td>\n      <td>General Mining</td>\n      <td>United Kingdom</td>\n      <td>19.141342</td>\n      <td>NaN</td>\n      <td>NaN</td>\n      <td>NaN</td>\n    </tr>\n    <tr>\n      <td>159396</td>\n      <td>2013</td>\n      <td>6</td>\n      <td>ZOL</td>\n      <td>2004-05-18</td>\n      <td>ZOLTAV RESOURCES INC</td>\n      <td>General Financial</td>\n      <td>Specialty Finance</td>\n      <td>Cayman Islands</td>\n      <td>28.190878</td>\n      <td>NaN</td>\n      <td>NaN</td>\n      <td>NaN</td>\n    </tr>\n    <tr>\n      <td>159397</td>\n      <td>2013</td>\n      <td>6</td>\n      <td>ZOO</td>\n      <td>2001-05-14</td>\n      <td>ZOO DIGITAL GROUP PLC</td>\n      <td>Software &amp; Computer Services</td>\n      <td>Software</td>\n      <td>United Kingdom</td>\n      <td>2.250767</td>\n      <td>NaN</td>\n      <td>NaN</td>\n      <td>NaN</td>\n    </tr>\n    <tr>\n      <td>159398</td>\n      <td>2013</td>\n      <td>6</td>\n      <td>ZTF</td>\n      <td>1995-02-28</td>\n      <td>ZOTEFOAMS</td>\n      <td>Chemicals</td>\n      <td>Specialty Chemicals</td>\n      <td>United Kingdom</td>\n      <td>81.457315</td>\n      <td>NaN</td>\n      <td>NaN</td>\n      <td>NaN</td>\n    </tr>\n    <tr>\n      <td>159399</td>\n      <td>2013</td>\n      <td>6</td>\n      <td>ZYT</td>\n      <td>2000-07-06</td>\n      <td>ZYTRONIC</td>\n      <td>Electronic &amp; Electrical Equipment</td>\n      <td>Electronic Equipment</td>\n      <td>United Kingdom</td>\n      <td>22.067038</td>\n      <td>NaN</td>\n      <td>NaN</td>\n      <td>NaN</td>\n    </tr>\n  </tbody>\n</table>\n<p>159400 rows × 12 columns</p>\n</div>",
      "text/plain": "        year month ticker   list_date                         company_name  \\\n0       2017    11    OPM  2006-08-02                              1PM PLC   \n1       2017    11    SPA  2009-02-02                         1SPATIAL PLC   \n2       2017    11    C21  2005-04-15          21ST CENTURY TECHNOLOGY PLC   \n3       2017    11    III  1994-07-18                         3I GROUP PLC   \n4       2017    11    3IN  2007-03-13                3I INFRASTRUCTURE PLC   \n...      ...   ...    ...         ...                                  ...   \n159395  2013     6    ZOX  2001-12-10  ZINCOX RESOURCES PLC                  \n159396  2013     6    ZOL  2004-05-18  ZOLTAV RESOURCES INC                  \n159397  2013     6    ZOO  2001-05-14  ZOO DIGITAL GROUP PLC                 \n159398  2013     6    ZTF  1995-02-28  ZOTEFOAMS                             \n159399  2013     6    ZYT  2000-07-06  ZYTRONIC                              \n\n                             icb_industry       icb_supersector  \\\n0                      Financial Services            Financials   \n1             Industrial Goods & Services           Industrials   \n2             Industrial Goods & Services           Industrials   \n3                      Financial Services            Financials   \n4                      Financial Services            Financials   \n...                                   ...                   ...   \n159395                             Mining        General Mining   \n159396                  General Financial     Specialty Finance   \n159397       Software & Computer Services              Software   \n159398                          Chemicals   Specialty Chemicals   \n159399  Electronic & Electrical Equipment  Electronic Equipment   \n\n       country_of_incorporation   market_cap  eps  p/e  p/s  \n0                United Kingdom    40.036935  NaN  NaN  NaN  \n1                United Kingdom    29.467662  NaN  NaN  NaN  \n2                United Kingdom     2.564093  NaN  NaN  NaN  \n3                United Kingdom  8765.510388  NaN  NaN  NaN  \n4                        Jersey  2025.382649  NaN  NaN  NaN  \n...                         ...          ...  ...  ...  ...  \n159395           United Kingdom    19.141342  NaN  NaN  NaN  \n159396           Cayman Islands    28.190878  NaN  NaN  NaN  \n159397           United Kingdom     2.250767  NaN  NaN  NaN  \n159398           United Kingdom    81.457315  NaN  NaN  NaN  \n159399           United Kingdom    22.067038  NaN  NaN  NaN  \n\n[159400 rows x 12 columns]"
     },
     "execution_count": 3,
     "metadata": {},
     "output_type": "execute_result"
    }
   ],
   "source": [
    "lse_historical_data"
   ]
  },
  {
   "cell_type": "code",
   "execution_count": 4,
   "metadata": {},
   "outputs": [
    {
     "data": {
      "text/plain": "Equity Investment Instruments             18455\nFinancial Services                        16038\nIndustrial Goods & Services                7733\nMining                                     7515\nSupport Services                           7510\n                                          ...  \nDebentures & Loans                           49\nFood; Beverage and Tobacco                   49\nConstruction and Materials                   43\nPersonal Care; Drug and Grocery Stores       21\nAutomobiles and Parts                         9\nName: icb_industry, Length: 68, dtype: int64"
     },
     "execution_count": 4,
     "metadata": {},
     "output_type": "execute_result"
    }
   ],
   "source": [
    "lse_historical_data['icb_industry'].value_counts()"
   ]
  },
  {
   "cell_type": "code",
   "execution_count": 5,
   "metadata": {},
   "outputs": [
    {
     "data": {
      "text/plain": "Financials                       20936\nEquity Investment Instruments    18455\nIndustrials                       9166\nConsumer Services                 6563\nBasic Materials                   5553\n                                 ...  \nRailroads                           49\nForestry                            47\nBrewers                             45\nMortgage Finance                    25\nReal Estate Investment Trusts       19\nName: icb_supersector, Length: 127, dtype: int64"
     },
     "execution_count": 5,
     "metadata": {},
     "output_type": "execute_result"
    }
   ],
   "source": [
    "lse_historical_data['icb_supersector'].value_counts()"
   ]
  },
  {
   "cell_type": "code",
   "execution_count": 17,
   "metadata": {},
   "outputs": [
    {
     "data": {
      "text/plain": "0          True\n1         False\n2         False\n3          True\n4          True\n          ...  \n159395    False\n159396     True\n159397    False\n159398    False\n159399    False\nName: icb_industry, Length: 159400, dtype: object"
     },
     "execution_count": 17,
     "metadata": {},
     "output_type": "execute_result"
    }
   ],
   "source": [
    "finance_sector = lse_historical_data['icb_industry'].str.lower().str.contains('financ')\n",
    "finance_sector"
   ]
  },
  {
   "cell_type": "code",
   "execution_count": 58,
   "metadata": {},
   "outputs": [
    {
     "data": {
      "text/html": "<div>\n<style scoped>\n    .dataframe tbody tr th:only-of-type {\n        vertical-align: middle;\n    }\n\n    .dataframe tbody tr th {\n        vertical-align: top;\n    }\n\n    .dataframe thead th {\n        text-align: right;\n    }\n</style>\n<table border=\"1\" class=\"dataframe\">\n  <thead>\n    <tr style=\"text-align: right;\">\n      <th></th>\n      <th>year</th>\n      <th>month</th>\n      <th>ticker</th>\n      <th>list_date</th>\n      <th>company_name</th>\n      <th>icb_industry</th>\n      <th>icb_supersector</th>\n      <th>country_of_incorporation</th>\n      <th>market_cap</th>\n      <th>eps</th>\n      <th>p/e</th>\n      <th>p/s</th>\n    </tr>\n  </thead>\n  <tbody>\n    <tr>\n      <td>0</td>\n      <td>2017</td>\n      <td>11</td>\n      <td>OPM</td>\n      <td>2006-08-02</td>\n      <td>1PM PLC</td>\n      <td>Financial Services</td>\n      <td>Financials</td>\n      <td>United Kingdom</td>\n      <td>40.036935</td>\n      <td>0.1</td>\n      <td>8.582823</td>\n      <td>0.257812</td>\n    </tr>\n    <tr>\n      <td>3</td>\n      <td>2017</td>\n      <td>11</td>\n      <td>III</td>\n      <td>1994-07-18</td>\n      <td>3I GROUP PLC</td>\n      <td>Financial Services</td>\n      <td>Financials</td>\n      <td>United Kingdom</td>\n      <td>8765.510388</td>\n      <td>0.1</td>\n      <td>8.582823</td>\n      <td>0.257812</td>\n    </tr>\n    <tr>\n      <td>16</td>\n      <td>2017</td>\n      <td>11</td>\n      <td>AAS</td>\n      <td>1995-10-19</td>\n      <td>ABERDEEN ASIAN SMALLER COMPANIES INVESTMENT TR...</td>\n      <td>Financial Services</td>\n      <td>Financials</td>\n      <td>United Kingdom</td>\n      <td>354.465275</td>\n      <td>0.1</td>\n      <td>8.582823</td>\n      <td>0.257812</td>\n    </tr>\n    <tr>\n      <td>17</td>\n      <td>2017</td>\n      <td>11</td>\n      <td>ADIG</td>\n      <td>1952-03-24</td>\n      <td>ABERDEEN DIVERSIFIED INCOME AND GROWTH TRUST PLC</td>\n      <td>Financial Services</td>\n      <td>Financials</td>\n      <td>United Kingdom</td>\n      <td>387.691012</td>\n      <td>0.1</td>\n      <td>8.582823</td>\n      <td>0.257812</td>\n    </tr>\n    <tr>\n      <td>20</td>\n      <td>2017</td>\n      <td>11</td>\n      <td>AJIT</td>\n      <td>1998-10-01</td>\n      <td>ABERDEEN JAPAN INVESTMENT TRUST PLC</td>\n      <td>Financial Services</td>\n      <td>Financials</td>\n      <td>United Kingdom</td>\n      <td>93.528324</td>\n      <td>0.1</td>\n      <td>8.582823</td>\n      <td>0.257812</td>\n    </tr>\n    <tr>\n      <td>...</td>\n      <td>...</td>\n      <td>...</td>\n      <td>...</td>\n      <td>...</td>\n      <td>...</td>\n      <td>...</td>\n      <td>...</td>\n      <td>...</td>\n      <td>...</td>\n      <td>...</td>\n      <td>...</td>\n      <td>...</td>\n    </tr>\n    <tr>\n      <td>159321</td>\n      <td>2013</td>\n      <td>6</td>\n      <td>VLE</td>\n      <td>2002-12-24</td>\n      <td>VOLVERE</td>\n      <td>General Financial</td>\n      <td>Specialty Finance</td>\n      <td>United Kingdom</td>\n      <td>13.851792</td>\n      <td>0.1</td>\n      <td>8.582823</td>\n      <td>0.257812</td>\n    </tr>\n    <tr>\n      <td>159325</td>\n      <td>2013</td>\n      <td>6</td>\n      <td>WHI</td>\n      <td>2000-07-27</td>\n      <td>W.H.IRELAND GROUP</td>\n      <td>General Financial</td>\n      <td>Investment Services</td>\n      <td>United Kingdom</td>\n      <td>12.682072</td>\n      <td>0.1</td>\n      <td>8.582823</td>\n      <td>0.257812</td>\n    </tr>\n    <tr>\n      <td>159327</td>\n      <td>2013</td>\n      <td>6</td>\n      <td>WCW</td>\n      <td>1996-08-22</td>\n      <td>WALKER CRIPS GROUP PLC</td>\n      <td>General Financial</td>\n      <td>Investment Services</td>\n      <td>United Kingdom</td>\n      <td>11.495156</td>\n      <td>0.1</td>\n      <td>8.582823</td>\n      <td>0.257812</td>\n    </tr>\n    <tr>\n      <td>159348</td>\n      <td>2013</td>\n      <td>6</td>\n      <td>WST</td>\n      <td>1999-12-08</td>\n      <td>WESTSIDE INVESTMENTS PLC</td>\n      <td>General Financial</td>\n      <td>Specialty Finance</td>\n      <td>United Kingdom</td>\n      <td>2.500850</td>\n      <td>0.1</td>\n      <td>8.582823</td>\n      <td>0.257812</td>\n    </tr>\n    <tr>\n      <td>159377</td>\n      <td>2013</td>\n      <td>6</td>\n      <td>HUME</td>\n      <td>2010-09-17</td>\n      <td>XCAP SECURITIES PLC</td>\n      <td>General Financial</td>\n      <td>Investment Services</td>\n      <td>United Kingdom</td>\n      <td>4.330342</td>\n      <td>0.1</td>\n      <td>8.582823</td>\n      <td>0.257812</td>\n    </tr>\n  </tbody>\n</table>\n<p>16578 rows × 12 columns</p>\n</div>",
      "text/plain": "        year month ticker   list_date  \\\n0       2017    11    OPM  2006-08-02   \n3       2017    11    III  1994-07-18   \n16      2017    11    AAS  1995-10-19   \n17      2017    11   ADIG  1952-03-24   \n20      2017    11   AJIT  1998-10-01   \n...      ...   ...    ...         ...   \n159321  2013     6    VLE  2002-12-24   \n159325  2013     6    WHI  2000-07-27   \n159327  2013     6    WCW  1996-08-22   \n159348  2013     6    WST  1999-12-08   \n159377  2013     6   HUME  2010-09-17   \n\n                                             company_name        icb_industry  \\\n0                                                 1PM PLC  Financial Services   \n3                                            3I GROUP PLC  Financial Services   \n16      ABERDEEN ASIAN SMALLER COMPANIES INVESTMENT TR...  Financial Services   \n17       ABERDEEN DIVERSIFIED INCOME AND GROWTH TRUST PLC  Financial Services   \n20                    ABERDEEN JAPAN INVESTMENT TRUST PLC  Financial Services   \n...                                                   ...                 ...   \n159321                VOLVERE                               General Financial   \n159325                W.H.IRELAND GROUP                     General Financial   \n159327                WALKER CRIPS GROUP PLC                General Financial   \n159348                WESTSIDE INVESTMENTS PLC              General Financial   \n159377                XCAP SECURITIES PLC                   General Financial   \n\n            icb_supersector country_of_incorporation   market_cap  eps  \\\n0                Financials           United Kingdom    40.036935  0.1   \n3                Financials           United Kingdom  8765.510388  0.1   \n16               Financials           United Kingdom   354.465275  0.1   \n17               Financials           United Kingdom   387.691012  0.1   \n20               Financials           United Kingdom    93.528324  0.1   \n...                     ...                      ...          ...  ...   \n159321    Specialty Finance           United Kingdom    13.851792  0.1   \n159325  Investment Services           United Kingdom    12.682072  0.1   \n159327  Investment Services           United Kingdom    11.495156  0.1   \n159348    Specialty Finance           United Kingdom     2.500850  0.1   \n159377  Investment Services           United Kingdom     4.330342  0.1   \n\n             p/e       p/s  \n0       8.582823  0.257812  \n3       8.582823  0.257812  \n16      8.582823  0.257812  \n17      8.582823  0.257812  \n20      8.582823  0.257812  \n...          ...       ...  \n159321  8.582823  0.257812  \n159325  8.582823  0.257812  \n159327  8.582823  0.257812  \n159348  8.582823  0.257812  \n159377  8.582823  0.257812  \n\n[16578 rows x 12 columns]"
     },
     "execution_count": 58,
     "metadata": {},
     "output_type": "execute_result"
    }
   ],
   "source": [
    "finance_sector_df = lse_historical_data[finance_sector == True]\n",
    "finance_sector_df = finance_sector_df[finance_sector_df['country_of_incorporation'] == 'United Kingdom']\n",
    "finance_sector_df['eps'].fillna(finance_sector_df['eps'].median(), inplace=True)\n",
    "finance_sector_df['p/e'].fillna(finance_sector_df['p/e'].median(), inplace=True)\n",
    "finance_sector_df['p/s'].fillna(finance_sector_df['p/s'].median(), inplace=True)\n",
    "finance_sector_df"
   ]
  },
  {
   "cell_type": "code",
   "execution_count": 59,
   "metadata": {},
   "outputs": [
    {
     "data": {
      "text/html": "<div>\n<style scoped>\n    .dataframe tbody tr th:only-of-type {\n        vertical-align: middle;\n    }\n\n    .dataframe tbody tr th {\n        vertical-align: top;\n    }\n\n    .dataframe thead th {\n        text-align: right;\n    }\n</style>\n<table border=\"1\" class=\"dataframe\">\n  <thead>\n    <tr style=\"text-align: right;\">\n      <th></th>\n      <th>market_cap</th>\n      <th>eps</th>\n      <th>p/e</th>\n      <th>p/s</th>\n    </tr>\n    <tr>\n      <th>year</th>\n      <th></th>\n      <th></th>\n      <th></th>\n      <th></th>\n    </tr>\n  </thead>\n  <tbody>\n    <tr>\n      <td>2013</td>\n      <td>6.330405e+05</td>\n      <td>130.60</td>\n      <td>11209.167432</td>\n      <td>336.703125</td>\n    </tr>\n    <tr>\n      <td>2014</td>\n      <td>7.485027e+05</td>\n      <td>127.02</td>\n      <td>10561.892903</td>\n      <td>441.800626</td>\n    </tr>\n    <tr>\n      <td>2015</td>\n      <td>9.007274e+05</td>\n      <td>116.38</td>\n      <td>10120.954145</td>\n      <td>337.939930</td>\n    </tr>\n    <tr>\n      <td>2016</td>\n      <td>8.680164e+05</td>\n      <td>123.66</td>\n      <td>10572.870208</td>\n      <td>379.298887</td>\n    </tr>\n    <tr>\n      <td>2017</td>\n      <td>1.999370e+06</td>\n      <td>757.88</td>\n      <td>36621.828736</td>\n      <td>1489.358579</td>\n    </tr>\n    <tr>\n      <td>2018</td>\n      <td>2.297962e+06</td>\n      <td>658.06</td>\n      <td>35126.270603</td>\n      <td>1490.108375</td>\n    </tr>\n    <tr>\n      <td>2019</td>\n      <td>1.377860e+06</td>\n      <td>490.03</td>\n      <td>22991.580027</td>\n      <td>956.099441</td>\n    </tr>\n  </tbody>\n</table>\n</div>",
      "text/plain": "        market_cap     eps           p/e          p/s\nyear                                                 \n2013  6.330405e+05  130.60  11209.167432   336.703125\n2014  7.485027e+05  127.02  10561.892903   441.800626\n2015  9.007274e+05  116.38  10120.954145   337.939930\n2016  8.680164e+05  123.66  10572.870208   379.298887\n2017  1.999370e+06  757.88  36621.828736  1489.358579\n2018  2.297962e+06  658.06  35126.270603  1490.108375\n2019  1.377860e+06  490.03  22991.580027   956.099441"
     },
     "execution_count": 59,
     "metadata": {},
     "output_type": "execute_result"
    }
   ],
   "source": [
    "finance_sector_df_by_year = finance_sector_df.groupby('year').sum()\n",
    "finance_sector_df_by_year"
   ]
  },
  {
   "cell_type": "code",
   "execution_count": 61,
   "metadata": {},
   "outputs": [
    {
     "data": {
      "text/html": "<div>\n<style scoped>\n    .dataframe tbody tr th:only-of-type {\n        vertical-align: middle;\n    }\n\n    .dataframe tbody tr th {\n        vertical-align: top;\n    }\n\n    .dataframe thead th {\n        text-align: right;\n    }\n</style>\n<table border=\"1\" class=\"dataframe\">\n  <thead>\n    <tr style=\"text-align: right;\">\n      <th></th>\n      <th>year</th>\n      <th>month</th>\n      <th>icb_industry</th>\n      <th>market_cap</th>\n      <th>eps</th>\n      <th>p/e</th>\n      <th>p/s</th>\n    </tr>\n  </thead>\n  <tbody>\n    <tr>\n      <td>0</td>\n      <td>2017</td>\n      <td>11</td>\n      <td>Financial Services</td>\n      <td>40.036935</td>\n      <td>0.10</td>\n      <td>8.582823</td>\n      <td>0.257812</td>\n    </tr>\n    <tr>\n      <td>3</td>\n      <td>2017</td>\n      <td>11</td>\n      <td>Financial Services</td>\n      <td>8765.510388</td>\n      <td>0.10</td>\n      <td>8.582823</td>\n      <td>0.257812</td>\n    </tr>\n    <tr>\n      <td>16</td>\n      <td>2017</td>\n      <td>11</td>\n      <td>Financial Services</td>\n      <td>354.465275</td>\n      <td>0.10</td>\n      <td>8.582823</td>\n      <td>0.257812</td>\n    </tr>\n    <tr>\n      <td>17</td>\n      <td>2017</td>\n      <td>11</td>\n      <td>Financial Services</td>\n      <td>387.691012</td>\n      <td>0.10</td>\n      <td>8.582823</td>\n      <td>0.257812</td>\n    </tr>\n    <tr>\n      <td>20</td>\n      <td>2017</td>\n      <td>11</td>\n      <td>Financial Services</td>\n      <td>93.528324</td>\n      <td>0.10</td>\n      <td>8.582823</td>\n      <td>0.257812</td>\n    </tr>\n    <tr>\n      <td>...</td>\n      <td>...</td>\n      <td>...</td>\n      <td>...</td>\n      <td>...</td>\n      <td>...</td>\n      <td>...</td>\n      <td>...</td>\n    </tr>\n    <tr>\n      <td>153194</td>\n      <td>2018</td>\n      <td>9</td>\n      <td>Financial Services</td>\n      <td>197.640000</td>\n      <td>0.10</td>\n      <td>8.582823</td>\n      <td>0.257812</td>\n    </tr>\n    <tr>\n      <td>153198</td>\n      <td>2018</td>\n      <td>9</td>\n      <td>Financial Services</td>\n      <td>708.740000</td>\n      <td>0.10</td>\n      <td>8.582823</td>\n      <td>0.257812</td>\n    </tr>\n    <tr>\n      <td>153201</td>\n      <td>2018</td>\n      <td>9</td>\n      <td>Financial Services</td>\n      <td>1467.130000</td>\n      <td>0.10</td>\n      <td>8.582823</td>\n      <td>0.257812</td>\n    </tr>\n    <tr>\n      <td>153214</td>\n      <td>2018</td>\n      <td>9</td>\n      <td>Financial Services</td>\n      <td>341.470000</td>\n      <td>0.10</td>\n      <td>8.582823</td>\n      <td>0.257812</td>\n    </tr>\n    <tr>\n      <td>153218</td>\n      <td>2018</td>\n      <td>9</td>\n      <td>Financial Services</td>\n      <td>2.430000</td>\n      <td>-0.03</td>\n      <td>-1.840909</td>\n      <td>0.000000</td>\n    </tr>\n  </tbody>\n</table>\n<p>10125 rows × 7 columns</p>\n</div>",
      "text/plain": "        year month        icb_industry   market_cap   eps       p/e       p/s\n0       2017    11  Financial Services    40.036935  0.10  8.582823  0.257812\n3       2017    11  Financial Services  8765.510388  0.10  8.582823  0.257812\n16      2017    11  Financial Services   354.465275  0.10  8.582823  0.257812\n17      2017    11  Financial Services   387.691012  0.10  8.582823  0.257812\n20      2017    11  Financial Services    93.528324  0.10  8.582823  0.257812\n...      ...   ...                 ...          ...   ...       ...       ...\n153194  2018     9  Financial Services   197.640000  0.10  8.582823  0.257812\n153198  2018     9  Financial Services   708.740000  0.10  8.582823  0.257812\n153201  2018     9  Financial Services  1467.130000  0.10  8.582823  0.257812\n153214  2018     9  Financial Services   341.470000  0.10  8.582823  0.257812\n153218  2018     9  Financial Services     2.430000 -0.03 -1.840909  0.000000\n\n[10125 rows x 7 columns]"
     },
     "execution_count": 61,
     "metadata": {},
     "output_type": "execute_result"
    }
   ],
   "source": [
    "finance_sector_condensed = finance_sector_df[['year', 'month', 'icb_industry', 'market_cap', 'eps', 'p/e', 'p/s']]\n",
    "finance_sector_2016_2018 = finance_sector_condensed[(finance_sector_df['year'] >= 2016) & (finance_sector_df['year'] <= 2018)]\n",
    "finance_sector_2016_2018"
   ]
  },
  {
   "cell_type": "code",
   "execution_count": 62,
   "metadata": {},
   "outputs": [
    {
     "data": {
      "text/html": "<div>\n<style scoped>\n    .dataframe tbody tr th:only-of-type {\n        vertical-align: middle;\n    }\n\n    .dataframe tbody tr th {\n        vertical-align: top;\n    }\n\n    .dataframe thead th {\n        text-align: right;\n    }\n</style>\n<table border=\"1\" class=\"dataframe\">\n  <thead>\n    <tr style=\"text-align: right;\">\n      <th></th>\n      <th>year</th>\n      <th>month</th>\n      <th>market_cap</th>\n      <th>eps</th>\n      <th>p/e</th>\n      <th>p/s</th>\n    </tr>\n  </thead>\n  <tbody>\n    <tr>\n      <td>0</td>\n      <td>2016</td>\n      <td>1</td>\n      <td>69058.864418</td>\n      <td>11.54</td>\n      <td>878.925732</td>\n      <td>29.721713</td>\n    </tr>\n    <tr>\n      <td>1</td>\n      <td>2016</td>\n      <td>4</td>\n      <td>72319.786213</td>\n      <td>9.97</td>\n      <td>879.643786</td>\n      <td>26.259458</td>\n    </tr>\n    <tr>\n      <td>2</td>\n      <td>2016</td>\n      <td>5</td>\n      <td>73676.181750</td>\n      <td>9.61</td>\n      <td>906.902703</td>\n      <td>30.478442</td>\n    </tr>\n    <tr>\n      <td>3</td>\n      <td>2016</td>\n      <td>6</td>\n      <td>67823.391762</td>\n      <td>11.40</td>\n      <td>926.187042</td>\n      <td>34.409323</td>\n    </tr>\n    <tr>\n      <td>4</td>\n      <td>2016</td>\n      <td>7</td>\n      <td>73163.086741</td>\n      <td>11.61</td>\n      <td>912.478377</td>\n      <td>26.719926</td>\n    </tr>\n    <tr>\n      <td>5</td>\n      <td>2016</td>\n      <td>8</td>\n      <td>75744.083136</td>\n      <td>10.40</td>\n      <td>892.613639</td>\n      <td>26.812500</td>\n    </tr>\n    <tr>\n      <td>6</td>\n      <td>2016</td>\n      <td>11</td>\n      <td>71836.854463</td>\n      <td>9.90</td>\n      <td>849.699522</td>\n      <td>25.523438</td>\n    </tr>\n    <tr>\n      <td>7</td>\n      <td>2016</td>\n      <td>10</td>\n      <td>72699.280980</td>\n      <td>9.74</td>\n      <td>851.147548</td>\n      <td>26.325129</td>\n    </tr>\n    <tr>\n      <td>8</td>\n      <td>2016</td>\n      <td>12</td>\n      <td>72804.712146</td>\n      <td>9.09</td>\n      <td>843.038569</td>\n      <td>61.115401</td>\n    </tr>\n    <tr>\n      <td>9</td>\n      <td>2016</td>\n      <td>2</td>\n      <td>69910.427381</td>\n      <td>10.30</td>\n      <td>884.030816</td>\n      <td>26.554688</td>\n    </tr>\n    <tr>\n      <td>10</td>\n      <td>2016</td>\n      <td>3</td>\n      <td>73199.132892</td>\n      <td>9.77</td>\n      <td>856.015559</td>\n      <td>36.671907</td>\n    </tr>\n    <tr>\n      <td>11</td>\n      <td>2016</td>\n      <td>9</td>\n      <td>75780.637184</td>\n      <td>10.33</td>\n      <td>892.186914</td>\n      <td>28.706963</td>\n    </tr>\n    <tr>\n      <td>12</td>\n      <td>2017</td>\n      <td>1</td>\n      <td>75816.764420</td>\n      <td>11.84</td>\n      <td>868.227910</td>\n      <td>30.831717</td>\n    </tr>\n    <tr>\n      <td>13</td>\n      <td>2017</td>\n      <td>4</td>\n      <td>34883.696486</td>\n      <td>5.98</td>\n      <td>497.867433</td>\n      <td>15.491840</td>\n    </tr>\n    <tr>\n      <td>14</td>\n      <td>2017</td>\n      <td>6</td>\n      <td>168575.183316</td>\n      <td>52.33</td>\n      <td>3273.640777</td>\n      <td>118.618193</td>\n    </tr>\n    <tr>\n      <td>15</td>\n      <td>2017</td>\n      <td>7</td>\n      <td>173625.065806</td>\n      <td>45.83</td>\n      <td>3226.264063</td>\n      <td>102.701225</td>\n    </tr>\n    <tr>\n      <td>16</td>\n      <td>2017</td>\n      <td>9</td>\n      <td>179173.564836</td>\n      <td>56.98</td>\n      <td>3365.977392</td>\n      <td>118.028764</td>\n    </tr>\n    <tr>\n      <td>17</td>\n      <td>2017</td>\n      <td>10</td>\n      <td>186154.944004</td>\n      <td>43.44</td>\n      <td>3259.619143</td>\n      <td>102.764545</td>\n    </tr>\n    <tr>\n      <td>18</td>\n      <td>2017</td>\n      <td>11</td>\n      <td>185334.457615</td>\n      <td>42.39</td>\n      <td>3210.033716</td>\n      <td>101.033936</td>\n    </tr>\n    <tr>\n      <td>19</td>\n      <td>2017</td>\n      <td>12</td>\n      <td>190142.200000</td>\n      <td>76.11</td>\n      <td>3301.154603</td>\n      <td>162.612845</td>\n    </tr>\n    <tr>\n      <td>20</td>\n      <td>2017</td>\n      <td>2</td>\n      <td>161093.971573</td>\n      <td>37.40</td>\n      <td>3209.975972</td>\n      <td>96.421875</td>\n    </tr>\n    <tr>\n      <td>21</td>\n      <td>2017</td>\n      <td>3</td>\n      <td>160906.956355</td>\n      <td>216.92</td>\n      <td>3300.934643</td>\n      <td>302.314292</td>\n    </tr>\n    <tr>\n      <td>22</td>\n      <td>2017</td>\n      <td>4</td>\n      <td>130237.311246</td>\n      <td>78.27</td>\n      <td>2663.744251</td>\n      <td>128.071458</td>\n    </tr>\n    <tr>\n      <td>23</td>\n      <td>2017</td>\n      <td>5</td>\n      <td>170357.206097</td>\n      <td>46.09</td>\n      <td>3231.347463</td>\n      <td>107.647783</td>\n    </tr>\n    <tr>\n      <td>24</td>\n      <td>2017</td>\n      <td>8</td>\n      <td>183068.904267</td>\n      <td>44.30</td>\n      <td>3213.041369</td>\n      <td>102.820107</td>\n    </tr>\n    <tr>\n      <td>25</td>\n      <td>2018</td>\n      <td>2</td>\n      <td>186919.979649</td>\n      <td>37.60</td>\n      <td>3227.141619</td>\n      <td>96.937500</td>\n    </tr>\n    <tr>\n      <td>26</td>\n      <td>2018</td>\n      <td>3</td>\n      <td>184071.593643</td>\n      <td>220.65</td>\n      <td>3210.979106</td>\n      <td>306.291619</td>\n    </tr>\n    <tr>\n      <td>27</td>\n      <td>2018</td>\n      <td>5</td>\n      <td>195903.530000</td>\n      <td>42.97</td>\n      <td>3371.657470</td>\n      <td>108.670938</td>\n    </tr>\n    <tr>\n      <td>28</td>\n      <td>2018</td>\n      <td>9</td>\n      <td>201893.520000</td>\n      <td>38.32</td>\n      <td>3274.653023</td>\n      <td>99.600618</td>\n    </tr>\n    <tr>\n      <td>29</td>\n      <td>2018</td>\n      <td>10</td>\n      <td>185218.180000</td>\n      <td>38.15</td>\n      <td>3868.763885</td>\n      <td>99.778862</td>\n    </tr>\n    <tr>\n      <td>30</td>\n      <td>2018</td>\n      <td>12</td>\n      <td>174521.720000</td>\n      <td>29.69</td>\n      <td>2814.718333</td>\n      <td>148.445134</td>\n    </tr>\n    <tr>\n      <td>31</td>\n      <td>2018</td>\n      <td>1</td>\n      <td>192288.431538</td>\n      <td>49.53</td>\n      <td>3275.832829</td>\n      <td>113.307141</td>\n    </tr>\n    <tr>\n      <td>32</td>\n      <td>2018</td>\n      <td>11</td>\n      <td>180488.500000</td>\n      <td>37.82</td>\n      <td>2334.400738</td>\n      <td>98.858780</td>\n    </tr>\n    <tr>\n      <td>33</td>\n      <td>2018</td>\n      <td>4</td>\n      <td>192522.904725</td>\n      <td>35.40</td>\n      <td>-670.593123</td>\n      <td>99.147427</td>\n    </tr>\n    <tr>\n      <td>34</td>\n      <td>2018</td>\n      <td>6</td>\n      <td>198750.380000</td>\n      <td>45.09</td>\n      <td>3568.634635</td>\n      <td>114.087012</td>\n    </tr>\n    <tr>\n      <td>35</td>\n      <td>2018</td>\n      <td>7</td>\n      <td>202375.320000</td>\n      <td>42.03</td>\n      <td>3439.283103</td>\n      <td>103.333034</td>\n    </tr>\n    <tr>\n      <td>36</td>\n      <td>2018</td>\n      <td>8</td>\n      <td>203008.080000</td>\n      <td>40.81</td>\n      <td>3410.798984</td>\n      <td>101.650310</td>\n    </tr>\n  </tbody>\n</table>\n</div>",
      "text/plain": "    year month     market_cap     eps          p/e         p/s\n0   2016     1   69058.864418   11.54   878.925732   29.721713\n1   2016     4   72319.786213    9.97   879.643786   26.259458\n2   2016     5   73676.181750    9.61   906.902703   30.478442\n3   2016     6   67823.391762   11.40   926.187042   34.409323\n4   2016     7   73163.086741   11.61   912.478377   26.719926\n5   2016     8   75744.083136   10.40   892.613639   26.812500\n6   2016    11   71836.854463    9.90   849.699522   25.523438\n7   2016    10   72699.280980    9.74   851.147548   26.325129\n8   2016    12   72804.712146    9.09   843.038569   61.115401\n9   2016     2   69910.427381   10.30   884.030816   26.554688\n10  2016     3   73199.132892    9.77   856.015559   36.671907\n11  2016     9   75780.637184   10.33   892.186914   28.706963\n12  2017     1   75816.764420   11.84   868.227910   30.831717\n13  2017     4   34883.696486    5.98   497.867433   15.491840\n14  2017     6  168575.183316   52.33  3273.640777  118.618193\n15  2017     7  173625.065806   45.83  3226.264063  102.701225\n16  2017     9  179173.564836   56.98  3365.977392  118.028764\n17  2017    10  186154.944004   43.44  3259.619143  102.764545\n18  2017    11  185334.457615   42.39  3210.033716  101.033936\n19  2017    12  190142.200000   76.11  3301.154603  162.612845\n20  2017     2  161093.971573   37.40  3209.975972   96.421875\n21  2017     3  160906.956355  216.92  3300.934643  302.314292\n22  2017     4  130237.311246   78.27  2663.744251  128.071458\n23  2017     5  170357.206097   46.09  3231.347463  107.647783\n24  2017     8  183068.904267   44.30  3213.041369  102.820107\n25  2018     2  186919.979649   37.60  3227.141619   96.937500\n26  2018     3  184071.593643  220.65  3210.979106  306.291619\n27  2018     5  195903.530000   42.97  3371.657470  108.670938\n28  2018     9  201893.520000   38.32  3274.653023   99.600618\n29  2018    10  185218.180000   38.15  3868.763885   99.778862\n30  2018    12  174521.720000   29.69  2814.718333  148.445134\n31  2018     1  192288.431538   49.53  3275.832829  113.307141\n32  2018    11  180488.500000   37.82  2334.400738   98.858780\n33  2018     4  192522.904725   35.40  -670.593123   99.147427\n34  2018     6  198750.380000   45.09  3568.634635  114.087012\n35  2018     7  202375.320000   42.03  3439.283103  103.333034\n36  2018     8  203008.080000   40.81  3410.798984  101.650310"
     },
     "execution_count": 62,
     "metadata": {},
     "output_type": "execute_result"
    }
   ],
   "source": [
    "finance_sector_2016_2018_by_month = finance_sector_2016_2018.groupby(['year', 'month']).sum().reset_index()\n",
    "# finance_sector_2016_2018_by_month = finance_sector_2016_2018_by_month.sort_values(['year', 'month'])\n",
    "finance_sector_2016_2018_by_month"
   ]
  },
  {
   "cell_type": "code",
   "execution_count": 51,
   "metadata": {},
   "outputs": [
    {
     "data": {
      "text/html": "<div>\n<style scoped>\n    .dataframe tbody tr th:only-of-type {\n        vertical-align: middle;\n    }\n\n    .dataframe tbody tr th {\n        vertical-align: top;\n    }\n\n    .dataframe thead th {\n        text-align: right;\n    }\n</style>\n<table border=\"1\" class=\"dataframe\">\n  <thead>\n    <tr style=\"text-align: right;\">\n      <th></th>\n      <th>year</th>\n      <th>month</th>\n      <th>ticker</th>\n      <th>list_date</th>\n      <th>company_name</th>\n      <th>icb_industry</th>\n      <th>icb_supersector</th>\n      <th>country_of_incorporation</th>\n      <th>market_cap</th>\n      <th>eps</th>\n      <th>p/e</th>\n      <th>p/s</th>\n    </tr>\n  </thead>\n  <tbody>\n    <tr>\n      <td>0</td>\n      <td>2017</td>\n      <td>11</td>\n      <td>OPM</td>\n      <td>2006-08-02</td>\n      <td>1PM PLC</td>\n      <td>Financial Services</td>\n      <td>Financials</td>\n      <td>United Kingdom</td>\n      <td>40.036935</td>\n      <td>0.10</td>\n      <td>8.582823</td>\n      <td>0.257812</td>\n    </tr>\n    <tr>\n      <td>3</td>\n      <td>2017</td>\n      <td>11</td>\n      <td>III</td>\n      <td>1994-07-18</td>\n      <td>3I GROUP PLC</td>\n      <td>Financial Services</td>\n      <td>Financials</td>\n      <td>United Kingdom</td>\n      <td>8765.510388</td>\n      <td>0.10</td>\n      <td>8.582823</td>\n      <td>0.257812</td>\n    </tr>\n    <tr>\n      <td>16</td>\n      <td>2017</td>\n      <td>11</td>\n      <td>AAS</td>\n      <td>1995-10-19</td>\n      <td>ABERDEEN ASIAN SMALLER COMPANIES INVESTMENT TR...</td>\n      <td>Financial Services</td>\n      <td>Financials</td>\n      <td>United Kingdom</td>\n      <td>354.465275</td>\n      <td>0.10</td>\n      <td>8.582823</td>\n      <td>0.257812</td>\n    </tr>\n    <tr>\n      <td>17</td>\n      <td>2017</td>\n      <td>11</td>\n      <td>ADIG</td>\n      <td>1952-03-24</td>\n      <td>ABERDEEN DIVERSIFIED INCOME AND GROWTH TRUST PLC</td>\n      <td>Financial Services</td>\n      <td>Financials</td>\n      <td>United Kingdom</td>\n      <td>387.691012</td>\n      <td>0.10</td>\n      <td>8.582823</td>\n      <td>0.257812</td>\n    </tr>\n    <tr>\n      <td>20</td>\n      <td>2017</td>\n      <td>11</td>\n      <td>AJIT</td>\n      <td>1998-10-01</td>\n      <td>ABERDEEN JAPAN INVESTMENT TRUST PLC</td>\n      <td>Financial Services</td>\n      <td>Financials</td>\n      <td>United Kingdom</td>\n      <td>93.528324</td>\n      <td>0.10</td>\n      <td>8.582823</td>\n      <td>0.257812</td>\n    </tr>\n    <tr>\n      <td>...</td>\n      <td>...</td>\n      <td>...</td>\n      <td>...</td>\n      <td>...</td>\n      <td>...</td>\n      <td>...</td>\n      <td>...</td>\n      <td>...</td>\n      <td>...</td>\n      <td>...</td>\n      <td>...</td>\n      <td>...</td>\n    </tr>\n    <tr>\n      <td>153194</td>\n      <td>2018</td>\n      <td>9</td>\n      <td>WPC</td>\n      <td>1952-02-11</td>\n      <td>WITAN PACIFIC INVESTMENT TRUST PLC</td>\n      <td>Financial Services</td>\n      <td>Financials</td>\n      <td>United Kingdom</td>\n      <td>197.640000</td>\n      <td>0.10</td>\n      <td>8.582823</td>\n      <td>0.257812</td>\n    </tr>\n    <tr>\n      <td>153198</td>\n      <td>2018</td>\n      <td>9</td>\n      <td>WPCT</td>\n      <td>2015-04-21</td>\n      <td>WOODFORD PATIENT CAPITAL TRUST PLC</td>\n      <td>Financial Services</td>\n      <td>Financials</td>\n      <td>United Kingdom</td>\n      <td>708.740000</td>\n      <td>0.10</td>\n      <td>8.582823</td>\n      <td>0.257812</td>\n    </tr>\n    <tr>\n      <td>153201</td>\n      <td>2018</td>\n      <td>9</td>\n      <td>WWH</td>\n      <td>1995-04-28</td>\n      <td>WORLDWIDE HEALTHCARE TRUST PLC</td>\n      <td>Financial Services</td>\n      <td>Financials</td>\n      <td>United Kingdom</td>\n      <td>1467.130000</td>\n      <td>0.10</td>\n      <td>8.582823</td>\n      <td>0.257812</td>\n    </tr>\n    <tr>\n      <td>153214</td>\n      <td>2018</td>\n      <td>9</td>\n      <td>XPS</td>\n      <td>2017-02-16</td>\n      <td>XPS PENSIONS GROUP PLC</td>\n      <td>Financial Services</td>\n      <td>Financials</td>\n      <td>United Kingdom</td>\n      <td>341.470000</td>\n      <td>0.10</td>\n      <td>8.582823</td>\n      <td>0.257812</td>\n    </tr>\n    <tr>\n      <td>153218</td>\n      <td>2018</td>\n      <td>9</td>\n      <td>YOLO</td>\n      <td>2003-04-02</td>\n      <td>YOLO LEISURE AND TECHNOLOGY PLC</td>\n      <td>Financial Services</td>\n      <td>Financials</td>\n      <td>United Kingdom</td>\n      <td>2.430000</td>\n      <td>-0.03</td>\n      <td>-1.840909</td>\n      <td>0.000000</td>\n    </tr>\n  </tbody>\n</table>\n<p>10125 rows × 12 columns</p>\n</div>",
      "text/plain": "        year month ticker   list_date  \\\n0       2017    11    OPM  2006-08-02   \n3       2017    11    III  1994-07-18   \n16      2017    11    AAS  1995-10-19   \n17      2017    11   ADIG  1952-03-24   \n20      2017    11   AJIT  1998-10-01   \n...      ...   ...    ...         ...   \n153194  2018     9    WPC  1952-02-11   \n153198  2018     9   WPCT  2015-04-21   \n153201  2018     9    WWH  1995-04-28   \n153214  2018     9    XPS  2017-02-16   \n153218  2018     9   YOLO  2003-04-02   \n\n                                             company_name        icb_industry  \\\n0                                                 1PM PLC  Financial Services   \n3                                            3I GROUP PLC  Financial Services   \n16      ABERDEEN ASIAN SMALLER COMPANIES INVESTMENT TR...  Financial Services   \n17       ABERDEEN DIVERSIFIED INCOME AND GROWTH TRUST PLC  Financial Services   \n20                    ABERDEEN JAPAN INVESTMENT TRUST PLC  Financial Services   \n...                                                   ...                 ...   \n153194                 WITAN PACIFIC INVESTMENT TRUST PLC  Financial Services   \n153198                 WOODFORD PATIENT CAPITAL TRUST PLC  Financial Services   \n153201                     WORLDWIDE HEALTHCARE TRUST PLC  Financial Services   \n153214                             XPS PENSIONS GROUP PLC  Financial Services   \n153218                    YOLO LEISURE AND TECHNOLOGY PLC  Financial Services   \n\n       icb_supersector country_of_incorporation   market_cap   eps       p/e  \\\n0           Financials           United Kingdom    40.036935  0.10  8.582823   \n3           Financials           United Kingdom  8765.510388  0.10  8.582823   \n16          Financials           United Kingdom   354.465275  0.10  8.582823   \n17          Financials           United Kingdom   387.691012  0.10  8.582823   \n20          Financials           United Kingdom    93.528324  0.10  8.582823   \n...                ...                      ...          ...   ...       ...   \n153194      Financials           United Kingdom   197.640000  0.10  8.582823   \n153198      Financials           United Kingdom   708.740000  0.10  8.582823   \n153201      Financials           United Kingdom  1467.130000  0.10  8.582823   \n153214      Financials           United Kingdom   341.470000  0.10  8.582823   \n153218      Financials           United Kingdom     2.430000 -0.03 -1.840909   \n\n             p/s  \n0       0.257812  \n3       0.257812  \n16      0.257812  \n17      0.257812  \n20      0.257812  \n...          ...  \n153194  0.257812  \n153198  0.257812  \n153201  0.257812  \n153214  0.257812  \n153218  0.000000  \n\n[10125 rows x 12 columns]"
     },
     "execution_count": 51,
     "metadata": {},
     "output_type": "execute_result"
    }
   ],
   "source": []
  },
  {
   "cell_type": "code",
   "execution_count": null,
   "metadata": {},
   "outputs": [],
   "source": []
  }
 ]
}